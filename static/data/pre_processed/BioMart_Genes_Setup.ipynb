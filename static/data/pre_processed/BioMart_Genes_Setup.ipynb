{
 "cells": [
  {
   "cell_type": "code",
   "execution_count": 6,
   "metadata": {
    "collapsed": true
   },
   "outputs": [],
   "source": [
    "import json\n",
    "import csv"
   ]
  },
  {
   "cell_type": "code",
   "execution_count": 22,
   "metadata": {
    "collapsed": false
   },
   "outputs": [],
   "source": [
    "hum_ensembl_entrez_map = {}\n",
    "with open('mart_export_hum.txt', 'r') as mar_export_hum_file:\n",
    "    mar_export_hum = csv.reader(mar_export_hum_file,delimiter='\\t')\n",
    "    for row in mar_export_hum:\n",
    "        if len(row[1]) > 0:\n",
    "            hum_ensembl_entrez_map[row[0]] = row[1]"
   ]
  },
  {
   "cell_type": "code",
   "execution_count": 34,
   "metadata": {
    "collapsed": false
   },
   "outputs": [],
   "source": [
    "mus_refseq_entrez_map = {}\n",
    "mus_refseq_ensembl_map = {}\n",
    "with open('mart_export_mus.txt', 'r') as mar_export_mus_file:\n",
    "    mar_export_mus = csv.reader(mar_export_mus_file,delimiter='\\t')\n",
    "    for row in mar_export_mus:\n",
    "#         if len(row[1]) > 0 and len(row[2]) > 0:\n",
    "#             print \"NM and NR in same row\", row[1],row[2]\n",
    "        if len(row[1]) > 0:\n",
    "            if len(row[0]) > 0:\n",
    "                mus_refseq_entrez_map[row[1]] = row[0]\n",
    "            if len(row[3]) > 0:\n",
    "                mus_refseq_ensembl_map[row[1]] = row[3]\n",
    "        if len(row[2]) > 0:\n",
    "            if len(row[0]) > 0:\n",
    "                mus_refseq_entrez_map[row[2]] = row[0]\n",
    "            if len(row[3]) > 0:\n",
    "                mus_refseq_ensembl_map[row[2]] = row[3]"
   ]
  },
  {
   "cell_type": "code",
   "execution_count": 80,
   "metadata": {
    "collapsed": false
   },
   "outputs": [
    {
     "name": "stdout",
     "output_type": "stream",
     "text": [
      "ENSG00000261122\n",
      "{u'ensembl_id': u'NM_001282945', u'name': u'Adora1'}\n"
     ]
    }
   ],
   "source": [
    "with open('genes_list.json') as hum_genes_file:\n",
    "    hum_data = json.load(hum_genes_file)\n",
    "\n",
    "with open('genes_list_GRCm38.txt') as mus_genes_file:\n",
    "    mus_data = json.load(mus_genes_file)\n",
    "print hum_data[0]['ensembl_id'].split('.')[0]\n",
    "print mus_data[0]"
   ]
  },
  {
   "cell_type": "code",
   "execution_count": 77,
   "metadata": {
    "collapsed": false
   },
   "outputs": [
    {
     "data": {
      "text/plain": [
       "'HELLO'"
      ]
     },
     "execution_count": 77,
     "metadata": {},
     "output_type": "execute_result"
    }
   ],
   "source": [
    "'hello'.upper()"
   ]
  },
  {
   "cell_type": "code",
   "execution_count": 78,
   "metadata": {
    "collapsed": false
   },
   "outputs": [
    {
     "data": {
      "text/plain": [
       "'3333'"
      ]
     },
     "execution_count": 78,
     "metadata": {},
     "output_type": "execute_result"
    }
   ],
   "source": [
    "'3333.333'.split('.')[0]"
   ]
  },
  {
   "cell_type": "code",
   "execution_count": 82,
   "metadata": {
    "collapsed": false
   },
   "outputs": [],
   "source": [
    "for idx,gene in enumerate(hum_data):\n",
    "    hum_data[idx]['name'] = hum_data[idx]['name'].upper()\n",
    "    if gene['ensembl_id'].split('.')[0] in hum_ensembl_entrez_map:\n",
    "        hum_data[idx]['entrez_id'] = hum_ensembl_entrez_map[gene['ensembl_id'].split('.')[0]]\n",
    "    else:\n",
    "        hum_data[idx]['entrez_id'] = \"\"\n",
    "        #hum_data[idx]['entrez_full'] = \"Entrez\" + hum_ensembl_entrez_map[gene['ensembl_id'][:-2]]"
   ]
  },
  {
   "cell_type": "code",
   "execution_count": 83,
   "metadata": {
    "collapsed": false
   },
   "outputs": [],
   "source": [
    "with open('genes_list.json2', 'w') as genes_list:\n",
    "    genes_list.write(json.dumps(hum_data))"
   ]
  },
  {
   "cell_type": "code",
   "execution_count": 84,
   "metadata": {
    "collapsed": false
   },
   "outputs": [],
   "source": [
    "for idx,gene in enumerate(mus_data):\n",
    "    if gene['ensembl_id'] in mus_refseq_entrez_map:\n",
    "        mus_data[idx]['entrez_id'] = mus_refseq_entrez_map[gene['ensembl_id']]\n",
    "    else:\n",
    "        mus_data[idx]['entrez_id'] = \"\"\n",
    "    if gene['ensembl_id'] in mus_refseq_ensembl_map:\n",
    "        mus_data[idx]['ensembl_id_real'] = mus_refseq_ensembl_map[gene['ensembl_id']]\n",
    "    else:\n",
    "        mus_data[idx]['ensembl_id_real'] = \"\"\n",
    "    "
   ]
  },
  {
   "cell_type": "code",
   "execution_count": 85,
   "metadata": {
    "collapsed": true
   },
   "outputs": [],
   "source": [
    "with open('genes_list_GRCm38.txt2', 'w') as genes_list:\n",
    "    genes_list.write(json.dumps(mus_data))"
   ]
  },
  {
   "cell_type": "code",
   "execution_count": 86,
   "metadata": {
    "collapsed": false
   },
   "outputs": [
    {
     "name": "stdout",
     "output_type": "stream",
     "text": [
      "{'ensembl_id_real': 'ENSMUSG00000042429', u'ensembl_id': u'NM_001282945', 'entrez_id': '11539', u'name': u'Adora1'}\n",
      "{u'ensembl_id': u'ENSG00000261122.2', 'entrez_id': '400533', u'name': u'5S_RRNA', u'description': u''}\n"
     ]
    }
   ],
   "source": [
    "print mus_data[0]\n",
    "print hum_data[0]"
   ]
  },
  {
   "cell_type": "code",
   "execution_count": null,
   "metadata": {
    "collapsed": true
   },
   "outputs": [],
   "source": []
  }
 ],
 "metadata": {
  "kernelspec": {
   "display_name": "Python 2",
   "language": "python",
   "name": "python2"
  },
  "language_info": {
   "codemirror_mode": {
    "name": "ipython",
    "version": 2
   },
   "file_extension": ".py",
   "mimetype": "text/x-python",
   "name": "python",
   "nbconvert_exporter": "python",
   "pygments_lexer": "ipython2",
   "version": "2.7.11"
  }
 },
 "nbformat": 4,
 "nbformat_minor": 0
}
